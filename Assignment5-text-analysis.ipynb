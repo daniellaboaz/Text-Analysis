{
 "cells": [
  {
   "cell_type": "markdown",
   "metadata": {},
   "source": [
    "# Assignment 5 - Text Analysis\n",
    "An explanation this assignment could be found in the .pdf explanation document"
   ]
  },
  {
   "cell_type": "markdown",
   "metadata": {},
   "source": [
    "\n",
    "## Materials to review for this assignment\n",
    "<h4>From Moodle:</h4> \n",
    "<h5><u>Review the notebooks regarding the following python topics</u>:</h5>\n",
    "<div class=\"alert alert-info\">\n",
    "&#x2714; <b>Working with strings</b> (tutorial notebook)<br/>\n",
    "&#x2714; <b>Text Analysis</b> (tutorial notebook)<br/>\n",
    "&#x2714; <b>Hebrew text analysis tools (tokenizer, wordnet)</b> (moodle example)<br/>\n",
    "&#x2714; <b>(brief review) All previous notebooks</b><br/>\n",
    "</div> \n",
    "<h5><u>Review the presentations regarding the following topics</u>:</h5>\n",
    "<div class=\"alert alert-info\">\n",
    "&#x2714; <b>Text Analysis</b> (lecture presentation)<br/>\n",
    "&#x2714; <b>(brief review) All other presentations</b><br/>\n",
    "</div>"
   ]
  },
  {
   "cell_type": "markdown",
   "metadata": {},
   "source": [
    "## Preceding Step - import modules (packages)\n",
    "This step is necessary in order to use external modules (packages). <br/>"
   ]
  },
  {
   "cell_type": "code",
   "execution_count": 1,
   "metadata": {},
   "outputs": [],
   "source": [
    "# --------------------------------------\n",
    "import pandas as pd\n",
    "import numpy as np\n",
    "# --------------------------------------\n",
    "\n",
    "\n",
    "# --------------------------------------\n",
    "# ------------- visualizations:\n",
    "import seaborn as sns\n",
    "import matplotlib.pyplot as plt\n",
    "from matplotlib.colors import ListedColormap\n",
    "# --------------------------------------\n",
    "\n",
    "\n",
    "# ---------------------------------------\n",
    "import sklearn\n",
    "from sklearn import preprocessing, metrics, pipeline, model_selection, feature_extraction \n",
    "from sklearn import naive_bayes, linear_model, svm, neural_network, neighbors, tree\n",
    "from sklearn import decomposition, cluster\n",
    "\n",
    "from sklearn.model_selection import train_test_split, cross_val_score, GridSearchCV \n",
    "from sklearn.pipeline import Pipeline\n",
    "from sklearn.metrics import accuracy_score, confusion_matrix\n",
    "from sklearn.metrics import precision_score, recall_score, f1_score\n",
    "from sklearn.metrics import mean_squared_error, r2_score, silhouette_score\n",
    "from sklearn.preprocessing import MinMaxScaler, StandardScaler, LabelEncoder\n",
    "\n",
    "from sklearn.svm import LinearSVC\n",
    "from sklearn.neural_network import MLPClassifier\n",
    "from sklearn.linear_model import Perceptron, SGDClassifier\n",
    "from sklearn.decomposition import PCA\n",
    "from sklearn.cluster import KMeans\n",
    "from sklearn.naive_bayes import MultinomialNB, GaussianNB\n",
    "from sklearn.neighbors import KNeighborsClassifier\n",
    "from sklearn.tree import DecisionTreeClassifier\n",
    "# ---------------------------------------\n",
    "\n",
    "\n",
    "# ----------------- output and visualizations: \n",
    "import warnings\n",
    "from sklearn.exceptions import ConvergenceWarning\n",
    "warnings.simplefilter(\"ignore\")\n",
    "warnings.simplefilter(action='ignore', category=FutureWarning)\n",
    "warnings.simplefilter(\"ignore\", category=ConvergenceWarning)\n",
    "# show several prints in one cell. This will allow us to condence every trick in one cell.\n",
    "from IPython.core.interactiveshell import InteractiveShell\n",
    "InteractiveShell.ast_node_interactivity = \"all\"\n",
    "%matplotlib inline\n",
    "pd.pandas.set_option('display.max_columns', None)\n",
    "pd.set_option('display.float_format', lambda x: '%.3f' % x)\n",
    "# ---------------------------------------"
   ]
  },
  {
   "cell_type": "markdown",
   "metadata": {},
   "source": [
    "### Text analysis and String manipulation imports:"
   ]
  },
  {
   "cell_type": "code",
   "execution_count": 2,
   "metadata": {},
   "outputs": [],
   "source": [
    "# --------------------------------------\n",
    "# --------- Text analysis and Hebrew text analysis imports:\n",
    "# vectorizers:\n",
    "from sklearn.feature_extraction import text\n",
    "from sklearn.feature_extraction.text import CountVectorizer, TfidfVectorizer\n",
    "\n",
    "# regular expressions:\n",
    "import re\n",
    "# --------------------------------------"
   ]
  },
  {
   "cell_type": "markdown",
   "metadata": {},
   "source": [
    "### (optional) Hebrew text analysis - WordNet (for Hebrew)\n",
    "Note: the WordNet is not a must"
   ]
  },
  {
   "cell_type": "markdown",
   "metadata": {},
   "source": [
    "#### (optional) Only if you didn't install Wordnet (for Hebrew) use:"
   ]
  },
  {
   "cell_type": "code",
   "execution_count": 9,
   "metadata": {},
   "outputs": [],
   "source": [
    "# word net installation:\n",
    "\n",
    "# unmark if you want to use and need to install\n",
    "#!pip install wn\n",
    "#!python -m wn download omw-he:1.4"
   ]
  },
  {
   "cell_type": "code",
   "execution_count": 3,
   "metadata": {},
   "outputs": [],
   "source": [
    "# word net import:\n",
    "\n",
    "# unmark if you want to use:\n",
    "import wn"
   ]
  },
  {
   "cell_type": "markdown",
   "metadata": {},
   "source": [
    "### (optional) Hebrew text analysis - hebrew_tokenizer (Tokenizer for Hebrew)\n",
    "Note: the hebrew_tokenizer is not a must"
   ]
  },
  {
   "cell_type": "markdown",
   "metadata": {},
   "source": [
    "#### (optional) Only if you didn't install hebrew_tokenizer use:"
   ]
  },
  {
   "cell_type": "code",
   "execution_count": 11,
   "metadata": {},
   "outputs": [],
   "source": [
    "# Hebrew tokenizer installation:\n",
    "\n",
    "# unmark if you want to use and need to install:\n",
    "#!pip install hebrew_tokenizer"
   ]
  },
  {
   "cell_type": "code",
   "execution_count": 4,
   "metadata": {},
   "outputs": [
    {
     "name": "stdout",
     "output_type": "stream",
     "text": [
      "C:\\Users\\user\\Downloads\\assignment5-text_analysis\n"
     ]
    }
   ],
   "source": [
    "# Hebrew tokenizer import:\n",
    "\n",
    "# unmark if you want to use:\n",
    "import hebrew_tokenizer as ht"
   ]
  },
  {
   "cell_type": "markdown",
   "metadata": {},
   "source": [
    "### Reading input files\n",
    "Reading input files for train annotated corpus (raw text data) corpus and for the test corpus"
   ]
  },
  {
   "cell_type": "code",
   "execution_count": 5,
   "metadata": {},
   "outputs": [],
   "source": [
    "train_filename = 'annotated_corpus_for_train.csv'\n",
    "test_filename  = 'corpus_for_test.csv'\n",
    "df_train = pd.read_csv(train_filename, index_col=None, encoding='utf-8')\n",
    "df_test  = pd.read_csv(test_filename, index_col=None, encoding='utf-8')"
   ]
  },
  {
   "cell_type": "code",
   "execution_count": 6,
   "metadata": {},
   "outputs": [
    {
     "data": {
      "text/html": [
       "<div>\n",
       "<style scoped>\n",
       "    .dataframe tbody tr th:only-of-type {\n",
       "        vertical-align: middle;\n",
       "    }\n",
       "\n",
       "    .dataframe tbody tr th {\n",
       "        vertical-align: top;\n",
       "    }\n",
       "\n",
       "    .dataframe thead th {\n",
       "        text-align: right;\n",
       "    }\n",
       "</style>\n",
       "<table border=\"1\" class=\"dataframe\">\n",
       "  <thead>\n",
       "    <tr style=\"text-align: right;\">\n",
       "      <th></th>\n",
       "      <th>story</th>\n",
       "      <th>gender</th>\n",
       "    </tr>\n",
       "  </thead>\n",
       "  <tbody>\n",
       "    <tr>\n",
       "      <th>0</th>\n",
       "      <td>כשחבר הזמין אותי לחול, לא באמת חשבתי שזה יקרה,...</td>\n",
       "      <td>m</td>\n",
       "    </tr>\n",
       "    <tr>\n",
       "      <th>1</th>\n",
       "      <td>לפני שהתגייסתי לצבא עשיתי כל מני מיונים ליחידו...</td>\n",
       "      <td>m</td>\n",
       "    </tr>\n",
       "    <tr>\n",
       "      <th>2</th>\n",
       "      <td>מאז שהתחילו הלימודים חלומו של כל סטודנט זה הפנ...</td>\n",
       "      <td>f</td>\n",
       "    </tr>\n",
       "    <tr>\n",
       "      <th>3</th>\n",
       "      <td>כשהייתי ילד, מטוסים היה הדבר שהכי ריתק אותי. ב...</td>\n",
       "      <td>m</td>\n",
       "    </tr>\n",
       "    <tr>\n",
       "      <th>4</th>\n",
       "      <td>‏הייתי מדריכה בכפר נוער ומתאם הכפר היינו צריכי...</td>\n",
       "      <td>f</td>\n",
       "    </tr>\n",
       "    <tr>\n",
       "      <th>5</th>\n",
       "      <td>לפני כ3 חודשים טסתי לרומא למשך שבוע. טסתי במטו...</td>\n",
       "      <td>f</td>\n",
       "    </tr>\n",
       "    <tr>\n",
       "      <th>6</th>\n",
       "      <td>אני כבר שנתיים נשוי והשנה אני ואישתי סוף סוף י...</td>\n",
       "      <td>m</td>\n",
       "    </tr>\n",
       "    <tr>\n",
       "      <th>7</th>\n",
       "      <td>השנה התחלנו שיפוץ בדירה שלנו בתל אביב. הדירה ה...</td>\n",
       "      <td>f</td>\n",
       "    </tr>\n",
       "  </tbody>\n",
       "</table>\n",
       "</div>"
      ],
      "text/plain": [
       "                                               story gender\n",
       "0  כשחבר הזמין אותי לחול, לא באמת חשבתי שזה יקרה,...      m\n",
       "1  לפני שהתגייסתי לצבא עשיתי כל מני מיונים ליחידו...      m\n",
       "2  מאז שהתחילו הלימודים חלומו של כל סטודנט זה הפנ...      f\n",
       "3  כשהייתי ילד, מטוסים היה הדבר שהכי ריתק אותי. ב...      m\n",
       "4  ‏הייתי מדריכה בכפר נוער ומתאם הכפר היינו צריכי...      f\n",
       "5  לפני כ3 חודשים טסתי לרומא למשך שבוע. טסתי במטו...      f\n",
       "6  אני כבר שנתיים נשוי והשנה אני ואישתי סוף סוף י...      m\n",
       "7  השנה התחלנו שיפוץ בדירה שלנו בתל אביב. הדירה ה...      f"
      ]
     },
     "execution_count": 6,
     "metadata": {},
     "output_type": "execute_result"
    },
    {
     "data": {
      "text/plain": [
       "(753, 2)"
      ]
     },
     "execution_count": 6,
     "metadata": {},
     "output_type": "execute_result"
    }
   ],
   "source": [
    "df_train.head(8)\n",
    "df_train.shape"
   ]
  },
  {
   "cell_type": "code",
   "execution_count": 7,
   "metadata": {},
   "outputs": [
    {
     "data": {
      "text/html": [
       "<div>\n",
       "<style scoped>\n",
       "    .dataframe tbody tr th:only-of-type {\n",
       "        vertical-align: middle;\n",
       "    }\n",
       "\n",
       "    .dataframe tbody tr th {\n",
       "        vertical-align: top;\n",
       "    }\n",
       "\n",
       "    .dataframe thead th {\n",
       "        text-align: right;\n",
       "    }\n",
       "</style>\n",
       "<table border=\"1\" class=\"dataframe\">\n",
       "  <thead>\n",
       "    <tr style=\"text-align: right;\">\n",
       "      <th></th>\n",
       "      <th>test_example_id</th>\n",
       "      <th>story</th>\n",
       "    </tr>\n",
       "  </thead>\n",
       "  <tbody>\n",
       "    <tr>\n",
       "      <th>0</th>\n",
       "      <td>0</td>\n",
       "      <td>כל קיץ אני והמשפחה נוסעים לארצות הברית לוס אנג...</td>\n",
       "    </tr>\n",
       "    <tr>\n",
       "      <th>1</th>\n",
       "      <td>1</td>\n",
       "      <td>הגעתי לשירות המדינה אחרי שנתיים כפעיל בתנועת \"...</td>\n",
       "    </tr>\n",
       "    <tr>\n",
       "      <th>2</th>\n",
       "      <td>2</td>\n",
       "      <td>אחת האהבות הגדולות שלי אלו הכלבים שלי ושל אישת...</td>\n",
       "    </tr>\n",
       "  </tbody>\n",
       "</table>\n",
       "</div>"
      ],
      "text/plain": [
       "   test_example_id                                              story\n",
       "0                0  כל קיץ אני והמשפחה נוסעים לארצות הברית לוס אנג...\n",
       "1                1  הגעתי לשירות המדינה אחרי שנתיים כפעיל בתנועת \"...\n",
       "2                2  אחת האהבות הגדולות שלי אלו הכלבים שלי ושל אישת..."
      ]
     },
     "execution_count": 7,
     "metadata": {},
     "output_type": "execute_result"
    },
    {
     "data": {
      "text/plain": [
       "(323, 2)"
      ]
     },
     "execution_count": 7,
     "metadata": {},
     "output_type": "execute_result"
    }
   ],
   "source": [
    "df_test.head(3)\n",
    "df_test.shape"
   ]
  },
  {
   "cell_type": "markdown",
   "metadata": {},
   "source": [
    "### step 1: cleaning the data:\n",
    "in the section i delete from the \"story\" category all the English letters, numbers and Punctuation.\n",
    "\n",
    "this step is implemented on both the train and the test sets.\n",
    "\n",
    "at the end i separate the target category  from the train set and transfer the categories to numeric values."
   ]
  },
  {
   "cell_type": "code",
   "execution_count": 8,
   "metadata": {},
   "outputs": [],
   "source": [
    "from sklearn.metrics import make_scorer\n",
    "from sklearn.model_selection import cross_val_predict\n",
    "le = LabelEncoder()\n",
    "global label\n",
    "label = le.fit_transform(df_train['gender'])"
   ]
  },
  {
   "cell_type": "code",
   "execution_count": 9,
   "metadata": {},
   "outputs": [],
   "source": [
    "def data_clean(train,test): \n",
    "    #transforn to list:\n",
    "    train_list=train[\"story\"].values.tolist()\n",
    "    test_list=test[\"story\"].values.tolist()\n",
    "    \n",
    "    #delete from train:\n",
    "    for i,story in enumerate(train_list):\n",
    "        train_list[i]=train_list[i].replace(',',\"\").replace(';',\"\").replace('.',\"\").replace(':',\"\").replace('!',\"\").replace('(',\"\").replace(')',\"\")\n",
    "        train_list[i]=train_list[i].replace('\"',\"\").replace(\"'\",\"\").replace(\"?\",\"\")\n",
    "        for j in range (10):\n",
    "            train_list[i]=train_list[i].replace(str(j),\"\")\n",
    "        train_list[i] = re.sub(r\"([A-Za-z]+)\", '', train_list[i] )\n",
    "\n",
    "\n",
    "    #delet from test:\n",
    "    for i,story in enumerate(test_list):\n",
    "        test_list[i]=test_list[i].replace(',',\"\").replace(';',\"\").replace('.',\"\").replace(':',\"\").replace('!',\"\").replace('(',\"\").replace(')',\"\")\n",
    "        test_list[i]=test_list[i].replace('\"',\"\").replace(\"'\",\"\").replace(\"?\",\"\")\n",
    "        for j in range (10):\n",
    "            test_list[i]=test_list[i].replace(str(j),\"\")\n",
    "        test_list[i] = re.sub(r\"([A-Za-z]+)\", '', test_list[i] )\n",
    "\n",
    "\n",
    "    #target category to numeric  and from list to df:\n",
    "    train=train.drop(\"gender\", axis=1)\n",
    "    train = pd.DataFrame(train_list, columns=['story'])\n",
    "    test=pd.DataFrame(test_list, columns=['story'])\n",
    "    train[\"gender\"] = label\n",
    "    \n",
    "    y=train[\"gender\"]\n",
    "    train=train.drop(\"gender\", axis=1)\n",
    "\n",
    "    return train,test,y"
   ]
  },
  {
   "cell_type": "markdown",
   "metadata": {},
   "source": [
    "### step 2: machine learning:\n",
    "in the section i implement the different machine modle learning.\n",
    "\n",
    "for every model i search for the best hyper parameters in the different methods: count vectorize and tfidf."
   ]
  },
  {
   "cell_type": "code",
   "execution_count": 23,
   "metadata": {},
   "outputs": [],
   "source": [
    "#Decision Tree model:\n",
    "def dt (method,df_train,df_test):\n",
    "    train_df,test_df,y=data_clean(df_train,df_test)\n",
    "    train_list=train_df[\"story\"].values.tolist()\n",
    "    if method==\"c\":\n",
    "        vec=CountVectorizer(max_df=0.77)\n",
    "        X_train = vec.fit_transform(train_list)\n",
    "        X_train=pd.DataFrame(X_train.toarray(), columns=vec.get_feature_names_out())\n",
    "    if method==\"t\":\n",
    "        vec = TfidfVectorizer(max_df=0.77)\n",
    "        X_train= vec.fit_transform(train_list)\n",
    "        X_train=pd.DataFrame(X_train.toarray(), columns=vec.get_feature_names_out())\n",
    "    \n",
    "    param_grid = {'max_depth': [None,2, 5], 'min_samples_split': [2, 10,], 'min_samples_leaf': [1, 5, 10]}\n",
    "    decisionTree = tree.DecisionTreeClassifier()\n",
    "    grid_search = GridSearchCV(decisionTree, param_grid, scoring=make_scorer(f1_score, average='macro'), cv=7)\n",
    "    grid_search.fit(X_train, y)\n",
    "    decisionTree = tree.DecisionTreeClassifier(**grid_search.best_params_)\n",
    "\n",
    "    # fit the tree with the traing data\n",
    "    decisionTree = decisionTree.fit(X_train, y)\n",
    "    # predict with the training data\n",
    "    y_pred_train = decisionTree.predict(X_train)\n",
    "\n",
    "    scorer_male = make_scorer(f1_score, pos_label=0)\n",
    "    scorer_female = make_scorer(f1_score, pos_label=1)\n",
    "\n",
    "    f1_scores_male = cross_val_score(decisionTree, X_train, y, cv=7, scoring=scorer_male)\n",
    "    f1_scores_female = cross_val_score(decisionTree, X_train, y, cv=7, scoring=scorer_female)\n",
    "\n",
    "    f1_scores_male_avg=sum(f1_scores_male) / len(f1_scores_male)\n",
    "    f1_scores_female_avg=sum(f1_scores_female) / len(f1_scores_female)\n",
    "    avg_total=(f1_scores_male_avg+f1_scores_female_avg)/2\n",
    "\n",
    "    print(\"f1_macro:\")\n",
    "    print(avg_total)\n",
    "    print(\"\")\n",
    "    print(\"f1:\")\n",
    "    print(f1_score(y, y_pred_train, average=None))"
   ]
  },
  {
   "cell_type": "code",
   "execution_count": 30,
   "metadata": {},
   "outputs": [],
   "source": [
    "def calculating (method,model):\n",
    "    train_df,test_df,y=data_clean(df_train,df_test)\n",
    "    train_list=train_df[\"story\"].values.tolist()\n",
    "    if method==\"c\":\n",
    "        vec=CountVectorizer(ngram_range=(1,2),min_df = 5, max_df=0.77)\n",
    "        X_train = vec.fit_transform(train_list)\n",
    "        X_train=pd.DataFrame(X_train.toarray(), columns=vec.get_feature_names_out())\n",
    "    elif method==\"t\":\n",
    "        vec = TfidfVectorizer(ngram_range=(1,2),min_df = 5,  max_df=0.77)\n",
    "        X_train= vec.fit_transform(train_list)\n",
    "        X_train=pd.DataFrame(X_train.toarray(), columns=vec.get_feature_names_out())\n",
    "        \n",
    "    if model==\"Linear\":\n",
    "        param_grid = {'C': [0.1, 1, 10,50, 100], 'penalty': ['l1', 'l2']}\n",
    "        clf = LinearSVC()\n",
    "        grid_search = GridSearchCV(clf, param_grid, scoring=make_scorer(f1_score, average='macro'), cv=7)\n",
    "        grid_search.fit(X_train, y)\n",
    "        best_params = grid_search.best_params_\n",
    "        clf = LinearSVC(C=best_params['C'])\n",
    "    elif model==\"knn\":\n",
    "        param_grid = {'n_neighbors': [3, 5, 7, 9], 'weights': ['uniform', 'distance']}\n",
    "        clf = KNeighborsClassifier()\n",
    "        grid_search = GridSearchCV(clf, param_grid, scoring=make_scorer(f1_score, average='macro'), cv=7)\n",
    "        grid_search.fit(X_train, y)\n",
    "        best_params = grid_search.best_params_\n",
    "        clf = KNeighborsClassifier(**best_params)\n",
    "    elif model==\"gnb\":\n",
    "        clf = GaussianNB() \n",
    "    elif model==\"p\":\n",
    "        param_grid = {'penalty':[None,'l1', 'l2', 'elasticnet'],'alpha': [0.0001,0.05, 0.001, 0.01, 0.1],'max_iter': [1000, 5000, 10000]}\n",
    "        clf = Perceptron()\n",
    "        grid_search = GridSearchCV(clf, param_grid, scoring=make_scorer(f1_score, average='macro'), cv=7)\n",
    "        grid_search.fit(X_train, y)\n",
    "        best_params = grid_search.best_params_\n",
    "        clf = Perceptron(**best_params)\n",
    "    elif model==\"MultinomialNB\":\n",
    "        clf = MultinomialNB()\n",
    "    else: \n",
    "        if clf is None:\n",
    "            print(\"Error: Model not recognized\")\n",
    "            return\n",
    "\n",
    "    \n",
    "    print(\"f1_macro:\")\n",
    "    scores = cross_val_score(clf, X_train, y,scoring=make_scorer(f1_score, average='macro'), cv=7)\n",
    "    print(scores)\n",
    "    print(f\"Accuracy: {scores.mean()}\")\n",
    "    print(\"f1:\")\n",
    "    y_pred = cross_val_predict(clf, X_train, y, cv=7)\n",
    "    print(f1_score(y, y_pred, average=None))"
   ]
  },
  {
   "cell_type": "markdown",
   "metadata": {},
   "source": [
    "### step 3: comparing scores:\n",
    "in the section i compar the scoring os each model and method to see what will be the best for the test set."
   ]
  },
  {
   "cell_type": "code",
   "execution_count": 31,
   "metadata": {
    "scrolled": true
   },
   "outputs": [
    {
     "name": "stdout",
     "output_type": "stream",
     "text": [
      "gnb- count vectorizer:\n",
      "---------------------\n",
      "f1_macro:\n",
      "[0.47089947 0.42857143 0.54195095 0.50759878 0.43386243 0.43386243\n",
      " 0.51257675]\n",
      "Accuracy: 0.4756174641314317\n",
      "f1:\n",
      "[0.08510638 0.86949924]\n",
      "\n",
      "gnb- tfidf:\n",
      "-----------\n",
      "f1_macro:\n",
      "[0.47089947 0.42857143 0.54195095 0.50759878 0.43386243 0.43386243\n",
      " 0.51257675]\n",
      "Accuracy: 0.4756174641314317\n",
      "f1:\n",
      "[0.08510638 0.86949924]\n",
      "\n",
      "******************************************\n",
      "knn- count vectorizer:\n",
      "---------------------\n",
      "f1_macro:\n",
      "[0.47640595 0.42553191 0.62105263 0.54621849 0.49074564 0.52232143\n",
      " 0.69539337]\n",
      "Accuracy: 0.5396670602004734\n",
      "f1:\n",
      "[0.256      0.85191083]\n",
      "\n",
      "knn- tfidf:\n",
      "-----------\n",
      "f1_macro:\n",
      "[0.60042283 0.57897567 0.625      0.64912281 0.64134078 0.56585518\n",
      " 0.60709914]\n",
      "Accuracy: 0.6096880593035259\n",
      "f1:\n",
      "[0.37414966 0.84818482]\n",
      "\n",
      "******************************************\n",
      "perceptron- count vectorizer:\n",
      "-----------------------------\n",
      "f1_macro:\n",
      "[0.64872856 0.59298246 0.66168675 0.68727181 0.69560915 0.64825773\n",
      " 0.6754988 ]\n",
      "Accuracy: 0.6585764655103954\n",
      "f1:\n",
      "[0.45954693 0.86048454]\n",
      "\n",
      "perceptron- tfidf:\n",
      "------------------\n",
      "f1_macro:\n",
      "[0.54195095 0.55978261 0.60453357 0.57419355 0.47463175 0.54800307\n",
      " 0.58117428]\n",
      "Accuracy: 0.5548956819593737\n",
      "f1:\n",
      "[0.23414634 0.8793236 ]\n",
      "\n",
      "******************************************\n",
      "decisionTree- count vectorizer:\n",
      "-------------------------------\n",
      "f1_macro:\n",
      "0.6052265232323741\n",
      "\n",
      "f1:\n",
      "[0.92266667 0.97435897]\n",
      "\n",
      "decisionTree- tfidf:\n",
      "--------------------\n",
      "f1_macro:\n",
      "0.6043616493030006\n",
      "\n",
      "f1:\n",
      "[0.99719888 0.99912968]\n",
      "******************************************\n",
      "LinearSVC- count vectorizer:\n",
      "----------------------------\n",
      "f1_macro:\n",
      "[0.62896406 0.57897567 0.72839506 0.75892857 0.69252874 0.65303821\n",
      " 0.74401914]\n",
      "Accuracy: 0.6835499203138682\n",
      "f1:\n",
      "[0.51298701 0.87479132]\n",
      "\n",
      "LinearSVC- tfidf:\n",
      "-----------------\n",
      "f1_macro:\n",
      "[0.64198895 0.69017062 0.72415647 0.657557   0.62380713 0.64134078\n",
      " 0.65963502]\n",
      "Accuracy: 0.6626651396139563\n",
      "f1:\n",
      "[0.44268775 0.88747007]\n",
      "\n",
      "******************************************\n",
      "MultinomialNB- count vectorizer:\n",
      "--------------------------------\n",
      "f1_macro:\n",
      "[0.72378517 0.67914439 0.75892857 0.72415647 0.67076923 0.68529412\n",
      " 0.72327586]\n",
      "Accuracy: 0.709336257975021\n",
      "f1:\n",
      "[0.54019293 0.88033473]\n",
      "\n",
      "MultinomialNB- tfidf:\n",
      "---------------------\n",
      "f1_macro:\n",
      "[0.43455497 0.43157895 0.43157895 0.43157895 0.43386243 0.43386243\n",
      " 0.43386243]\n",
      "Accuracy: 0.4329827310735078\n",
      "f1:\n",
      "[0.         0.86596386]\n"
     ]
    }
   ],
   "source": [
    "print(\"gnb- count vectorizer:\")\n",
    "print(\"---------------------\")\n",
    "calculating(\"c\",\"gnb\")\n",
    "print(\"\")\n",
    "print(\"gnb- tfidf:\")\n",
    "print(\"-----------\")\n",
    "calculating(\"t\",\"gnb\")\n",
    "print(\"\")\n",
    "print(\"******************************************\")\n",
    "print(\"knn- count vectorizer:\")\n",
    "print(\"---------------------\")\n",
    "calculating(\"c\",\"knn\")\n",
    "print(\"\")\n",
    "print(\"knn- tfidf:\")\n",
    "print(\"-----------\")\n",
    "calculating(\"t\",\"knn\")\n",
    "print(\"\")\n",
    "print(\"******************************************\")\n",
    "print(\"perceptron- count vectorizer:\")\n",
    "print(\"-----------------------------\")\n",
    "calculating(\"c\",\"p\")\n",
    "print(\"\")\n",
    "print(\"perceptron- tfidf:\")\n",
    "print(\"------------------\")\n",
    "calculating(\"t\",\"p\")\n",
    "print(\"\")\n",
    "print(\"******************************************\")\n",
    "print(\"decisionTree- count vectorizer:\")\n",
    "print(\"-------------------------------\")\n",
    "dt(\"c\",df_train,df_test)\n",
    "print(\"\")\n",
    "print(\"decisionTree- tfidf:\")\n",
    "print(\"--------------------\")\n",
    "dt(\"t\",df_train,df_test)\n",
    "print(\"******************************************\")\n",
    "print(\"LinearSVC- count vectorizer:\")\n",
    "print(\"----------------------------\")\n",
    "calculating(\"c\",\"Linear\")\n",
    "print(\"\")\n",
    "print(\"LinearSVC- tfidf:\")\n",
    "print(\"-----------------\")\n",
    "calculating(\"t\",\"Linear\")\n",
    "print(\"\")\n",
    "print(\"******************************************\")\n",
    "print(\"MultinomialNB- count vectorizer:\")\n",
    "print(\"--------------------------------\")\n",
    "calculating(\"c\",\"MultinomialNB\")\n",
    "print(\"\")\n",
    "print(\"MultinomialNB- tfidf:\")\n",
    "print(\"---------------------\")\n",
    "calculating(\"t\",\"MultinomialNB\")\n",
    "\n"
   ]
  },
  {
   "cell_type": "markdown",
   "metadata": {},
   "source": [
    "### step 4: test set:\n",
    "in the section i implemented the best method and model on the test set to get a result.\n",
    "\n",
    "in this case i chose count vectorizer on MultinomialNB."
   ]
  },
  {
   "cell_type": "code",
   "execution_count": 32,
   "metadata": {},
   "outputs": [
    {
     "data": {
      "text/plain": [
       "MultinomialNB()"
      ]
     },
     "execution_count": 32,
     "metadata": {},
     "output_type": "execute_result"
    },
    {
     "data": {
      "text/plain": [
       "m    282\n",
       "f     41\n",
       "Name: gender, dtype: int64"
      ]
     },
     "execution_count": 32,
     "metadata": {},
     "output_type": "execute_result"
    }
   ],
   "source": [
    "train_list = df_train[\"story\"].values.tolist()\n",
    "vec = CountVectorizer(ngram_range=(1,2), min_df=5, max_df=0.75)\n",
    "X_train = vec.fit_transform(train_list)\n",
    "X_train = pd.DataFrame(X_train.toarray(), columns=vec.get_feature_names_out())\n",
    "y_train = df_train[\"gender\"] # replace \"target_variable\" with the actual name of your target variable\n",
    "\n",
    "clf = MultinomialNB()\n",
    "scores = cross_val_score(clf, X_train, y_train, scoring=make_scorer(f1_score, average='macro'), cv=7)\n",
    "clf.fit(X_train, y_train)\n",
    "\n",
    "test_list = df_test[\"story\"].values.tolist()\n",
    "X_test = vec.transform(test_list)\n",
    "X_test = pd.DataFrame(X_test.toarray(), columns=vec.get_feature_names_out())\n",
    "y_pred = clf.predict(X_test)\n",
    "df_test[\"gender\"]=y_pred\n",
    "df_test['gender'].value_counts()\n",
    "df_predicted=df_test.copy()"
   ]
  },
  {
   "cell_type": "code",
   "execution_count": 33,
   "metadata": {
    "scrolled": true
   },
   "outputs": [
    {
     "data": {
      "text/html": [
       "<div>\n",
       "<style scoped>\n",
       "    .dataframe tbody tr th:only-of-type {\n",
       "        vertical-align: middle;\n",
       "    }\n",
       "\n",
       "    .dataframe tbody tr th {\n",
       "        vertical-align: top;\n",
       "    }\n",
       "\n",
       "    .dataframe thead th {\n",
       "        text-align: right;\n",
       "    }\n",
       "</style>\n",
       "<table border=\"1\" class=\"dataframe\">\n",
       "  <thead>\n",
       "    <tr style=\"text-align: right;\">\n",
       "      <th></th>\n",
       "      <th>test_example_id</th>\n",
       "      <th>story</th>\n",
       "      <th>gender</th>\n",
       "    </tr>\n",
       "  </thead>\n",
       "  <tbody>\n",
       "    <tr>\n",
       "      <th>0</th>\n",
       "      <td>0</td>\n",
       "      <td>כל קיץ אני והמשפחה נוסעים לארצות הברית לוס אנג...</td>\n",
       "      <td>m</td>\n",
       "    </tr>\n",
       "    <tr>\n",
       "      <th>1</th>\n",
       "      <td>1</td>\n",
       "      <td>הגעתי לשירות המדינה אחרי שנתיים כפעיל בתנועת \"...</td>\n",
       "      <td>m</td>\n",
       "    </tr>\n",
       "    <tr>\n",
       "      <th>2</th>\n",
       "      <td>2</td>\n",
       "      <td>אחת האהבות הגדולות שלי אלו הכלבים שלי ושל אישת...</td>\n",
       "      <td>m</td>\n",
       "    </tr>\n",
       "    <tr>\n",
       "      <th>3</th>\n",
       "      <td>3</td>\n",
       "      <td>רגע הגיוס לצבא היה הרגע הכי משמעותי עבורי, אני...</td>\n",
       "      <td>m</td>\n",
       "    </tr>\n",
       "    <tr>\n",
       "      <th>4</th>\n",
       "      <td>4</td>\n",
       "      <td>אני הגעתי לברזיל ישר מקולומביה וגם אני עשיתי ע...</td>\n",
       "      <td>m</td>\n",
       "    </tr>\n",
       "    <tr>\n",
       "      <th>...</th>\n",
       "      <td>...</td>\n",
       "      <td>...</td>\n",
       "      <td>...</td>\n",
       "    </tr>\n",
       "    <tr>\n",
       "      <th>318</th>\n",
       "      <td>318</td>\n",
       "      <td>בשנה האחרונה הרגשתי די תקוע בעבודה, השגרה הפכה...</td>\n",
       "      <td>m</td>\n",
       "    </tr>\n",
       "    <tr>\n",
       "      <th>319</th>\n",
       "      <td>319</td>\n",
       "      <td>אני ואילן חברים טובים מזה 20 שנה תמיד חלמנו לפ...</td>\n",
       "      <td>m</td>\n",
       "    </tr>\n",
       "    <tr>\n",
       "      <th>320</th>\n",
       "      <td>320</td>\n",
       "      <td>מידי יום שישי אני נוהג לנסוע בתחבורה ציבורית ס...</td>\n",
       "      <td>m</td>\n",
       "    </tr>\n",
       "    <tr>\n",
       "      <th>321</th>\n",
       "      <td>321</td>\n",
       "      <td>לפני מספר חודשים, בשיא התחלואה של הגל השני, עמ...</td>\n",
       "      <td>m</td>\n",
       "    </tr>\n",
       "    <tr>\n",
       "      <th>322</th>\n",
       "      <td>322</td>\n",
       "      <td>היום בו דיווחתי על גניבה של האוטו שלי. בוקר אח...</td>\n",
       "      <td>m</td>\n",
       "    </tr>\n",
       "  </tbody>\n",
       "</table>\n",
       "<p>323 rows × 3 columns</p>\n",
       "</div>"
      ],
      "text/plain": [
       "     test_example_id                                              story gender\n",
       "0                  0  כל קיץ אני והמשפחה נוסעים לארצות הברית לוס אנג...      m\n",
       "1                  1  הגעתי לשירות המדינה אחרי שנתיים כפעיל בתנועת \"...      m\n",
       "2                  2  אחת האהבות הגדולות שלי אלו הכלבים שלי ושל אישת...      m\n",
       "3                  3  רגע הגיוס לצבא היה הרגע הכי משמעותי עבורי, אני...      m\n",
       "4                  4  אני הגעתי לברזיל ישר מקולומביה וגם אני עשיתי ע...      m\n",
       "..               ...                                                ...    ...\n",
       "318              318  בשנה האחרונה הרגשתי די תקוע בעבודה, השגרה הפכה...      m\n",
       "319              319  אני ואילן חברים טובים מזה 20 שנה תמיד חלמנו לפ...      m\n",
       "320              320  מידי יום שישי אני נוהג לנסוע בתחבורה ציבורית ס...      m\n",
       "321              321  לפני מספר חודשים, בשיא התחלואה של הגל השני, עמ...      m\n",
       "322              322  היום בו דיווחתי על גניבה של האוטו שלי. בוקר אח...      m\n",
       "\n",
       "[323 rows x 3 columns]"
      ]
     },
     "execution_count": 33,
     "metadata": {},
     "output_type": "execute_result"
    }
   ],
   "source": [
    "df_predicted"
   ]
  },
  {
   "cell_type": "markdown",
   "metadata": {},
   "source": [
    "### Save output to csv (optional)\n",
    "After you're done save your output to the 'classification_results.csv' csv file.<br/>\n",
    "We assume that the dataframe with your results contain the following columns:\n",
    "* column 1 (left column): 'test_example_id'  - the same id associated to each of the test stories to be predicted.\n",
    "* column 2 (right column): 'predicted_category' - the predicted gender value for each of the associated story. \n",
    "\n",
    "Assuming your predicted values are in the `df_predicted` dataframe, you should save you're results as following:"
   ]
  },
  {
   "cell_type": "code",
   "execution_count": null,
   "metadata": {},
   "outputs": [],
   "source": [
    "df_predicted.to_csv('classification_results.csv',index=False)"
   ]
  }
 ],
 "metadata": {
  "celltoolbar": "Create Assignment",
  "kernelspec": {
   "display_name": "Python 3 (ipykernel)",
   "language": "python",
   "name": "python3"
  },
  "language_info": {
   "codemirror_mode": {
    "name": "ipython",
    "version": 3
   },
   "file_extension": ".py",
   "mimetype": "text/x-python",
   "name": "python",
   "nbconvert_exporter": "python",
   "pygments_lexer": "ipython3",
   "version": "3.9.13"
  }
 },
 "nbformat": 4,
 "nbformat_minor": 4
}
